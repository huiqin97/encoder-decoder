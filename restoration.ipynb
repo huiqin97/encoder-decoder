{
 "cells": [
  {
   "cell_type": "markdown",
   "metadata": {},
   "source": [
    "#### refering to this repo: https://github.com/geyang/deep-auto-punctuation\n",
    "#### some codes need to be modified, maybe can try implement the use of cuda (GPU),  training.csv is not required"
   ]
  },
  {
   "cell_type": "code",
   "execution_count": 1,
   "metadata": {},
   "outputs": [
    {
     "name": "stdout",
     "output_type": "stream",
     "text": [
      "Key: \u001b[31m<nop>\u001b[0m\tPrec: \u001b[32m 99.1\u001b[0m%\tRecall: \u001b[32m 96.6\u001b[0m%\tF-Score: \u001b[32m 97.9\u001b[0m%\u001b[0m\n",
      "Key: \u001b[31m  ,\u001b[0m\tPrec: \u001b[32m  0.0\u001b[0m%\tRecall: \u001b[32m  0.0\u001b[0m%\tF-Score:   N/A\u001b[0m\n",
      "Key: \u001b[31m<cap>\u001b[0m\tPrec: \u001b[32m100.0\u001b[0m%\tRecall: \u001b[32m 75.0\u001b[0m%\tF-Score: \u001b[32m 85.7\u001b[0m%\u001b[0m\n",
      "Key: \u001b[31m  .\u001b[0m\tPrec: \u001b[32m  0.0\u001b[0m%\tRecall: \u001b[32m  0.0\u001b[0m%\tF-Score:   N/A\u001b[0m\n",
      "Key: \u001b[31m  '\u001b[0m\tPrec: \u001b[32m 66.7\u001b[0m%\tRecall: \u001b[32m100.0\u001b[0m%\tF-Score: \u001b[32m 80.0\u001b[0m%\u001b[0m\n",
      "\n",
      "\n",
      "true_p:\t{'<nop>': 114, '<cap>': 3, \"'\": 2}\n",
      "p:\t{'<nop>': 118, '<cap>': 4, \"'\": 2}\n",
      "all_p:\t{'<nop>': 115, ',': 2, '<cap>': 3, '.': 1, \"'\": 3}\n"
     ]
    }
   ],
   "source": [
    "import os \n",
    "import random\n",
    "import numpy as np \n",
    "import pandas as pd\n",
    "import matplotlib.pyplot as plt\n",
    "from tqdm import tqdm\n",
    "import visdom \n",
    "\n",
    "import torch \n",
    "from torch.autograd import Variable\n",
    "import torch.nn as nn\n",
    "import torch.nn.functional as F\n",
    "import torch.optim as optim\n",
    "\n",
    "# self defined functions \n",
    "import utils, data_processing, model, metric\n",
    "\n",
    "device = 'cpu'\n",
    "if torch.cuda.is_available():\n",
    "    device = 'cuda'"
   ]
  },
  {
   "cell_type": "code",
   "execution_count": 2,
   "metadata": {},
   "outputs": [
    {
     "name": "stdout",
     "output_type": "stream",
     "text": [
      "562573 maximum length of data:  197\n",
      "281286 168771 112515\n",
      "input_size is: 40; ouput_size is: 11\n",
      "****** Engadget Model Initialize ******\n"
     ]
    }
   ],
   "source": [
    "with open('2008.txt', 'r') as f: \n",
    "    raw_data = [line.rstrip() for line in f]\n",
    "    \n",
    "check_max = max(raw_data, key=len)\n",
    "print(len(raw_data), 'maximum length of data: ', len(check_max.split(' ')))\n",
    "\n",
    "subset_data = random.sample(raw_data, int(len(raw_data) * 0.5)) \n",
    "# subset for training, val and testset \n",
    "random.shuffle(subset_data)\n",
    "train_data = subset_data[:int(len(subset_data) * 0.6)]\n",
    "test_data = subset_data[int(len(subset_data) * 0.6): ]\n",
    "print(len(subset_data), len(train_data), len(test_data))\n",
    "\n",
    "input_chars = list(\" \\nabcdefghijklmnopqrstuvwxyz01234567890\")\n",
    "output_chars = [\"<nop>\", \"<cap>\"] + list(\".,;:?!\\\"'$\")\n",
    "batch_size = 16 \n",
    "char2vec = utils.Char2Vec(chars=input_chars, add_unknown=True)\n",
    "output_char2vec = utils.Char2Vec(chars=output_chars)\n",
    "input_size = char2vec.size\n",
    "output_size = output_char2vec.size\n",
    "\n",
    "print(\"input_size is: \" + str(input_size) + \"; ouput_size is: \" + str(output_size))\n",
    "hidden_size = input_size\n",
    "layers = 1\n",
    "\n",
    "rnn = model.GruRNN(input_size, hidden_size, output_size, batch_size=batch_size, layers=layers, bi=True)\n",
    "egdt = model.Engadget(rnn, char2vec, output_char2vec)"
   ]
  },
  {
   "cell_type": "code",
   "execution_count": 3,
   "metadata": {
    "scrolled": true
   },
   "outputs": [],
   "source": [
    "# vis = visdom.Visdom()\n",
    "# vis.env = \"deep-punc-experiment\"\n",
    "\n",
    "# emb = None\n",
    "# opt = None\n",
    "# smx = None\n",
    "# lss = None\n",
    "\n",
    "\n",
    "# def plot_progress(embeded, output, softmax, losses):\n",
    "#     global emb, opt, smx, lss\n",
    "#     emb = vis.heatmap(embeded, win=emb or None, opts=dict(title=\"Input Embedding\"))\n",
    "#     opt = vis.heatmap(output, win=opt or None, opts=dict(title=\"GRU Output\"))\n",
    "#     smx = vis.heatmap(softmax, win=smx or None, opts=dict(title=\"Softmax Activation\"))\n",
    "#     lss = vis.line(Y=losses, win=lss or None, opts=dict(title=\"Loss\"))\n"
   ]
  },
  {
   "cell_type": "code",
   "execution_count": null,
   "metadata": {
    "scrolled": true
   },
   "outputs": [
    {
     "name": "stderr",
     "output_type": "stream",
     "text": [
      "25it [00:02, 10.04it/s]"
     ]
    },
    {
     "name": "stdout",
     "output_type": "stream",
     "text": [
      "Epoch 1 Batch 25\n",
      "=================================\n",
      "Key: \u001b[31m<cap>\u001b[0m\tPrec: \u001b[32m  1.7\u001b[0m%\tRecall: \u001b[32m 10.0\u001b[0m%\tF-Score: \u001b[32m  2.9\u001b[0m%\u001b[0m\n",
      "Key: \u001b[31m<nop>\u001b[0m\tPrec: \u001b[32m 99.7\u001b[0m%\tRecall: \u001b[32m 97.7\u001b[0m%\tF-Score: \u001b[32m 98.7\u001b[0m%\u001b[0m\n",
      "Key: \u001b[31m  ,\u001b[0m\tPrec: \u001b[32m  0.0\u001b[0m%\tRecall: \u001b[32m  0.0\u001b[0m%\tF-Score:   N/A\u001b[0m\n",
      "Key: \u001b[31m  .\u001b[0m\tPrec: \u001b[32m  0.0\u001b[0m%\tRecall: \u001b[32m  0.0\u001b[0m%\tF-Score:   N/A\u001b[0m\n",
      "Key: \u001b[31m  \"\u001b[0m\tPrec: \u001b[32m  0.0\u001b[0m%\tRecall: \u001b[32m  0.0\u001b[0m%\tF-Score:   N/A\u001b[0m\n",
      "Key: \u001b[31m  :\u001b[0m\tPrec: \u001b[32m  0.0\u001b[0m%\tRecall: \u001b[32m  0.0\u001b[0m%\tF-Score:   N/A\u001b[0m\n",
      "Key: \u001b[31m  '\u001b[0m\tPrec: \u001b[32m  0.0\u001b[0m%\tRecall: \u001b[32m  0.0\u001b[0m%\tF-Score:   N/A\u001b[0m\n",
      "\n",
      "\n"
     ]
    },
    {
     "name": "stderr",
     "output_type": "stream",
     "text": [
      "52it [00:04, 13.95it/s]"
     ]
    },
    {
     "name": "stdout",
     "output_type": "stream",
     "text": [
      "Epoch 1 Batch 50\n",
      "=================================\n",
      "Key: \u001b[31m<cap>\u001b[0m\tPrec: \u001b[32m  8.9\u001b[0m%\tRecall: \u001b[32m  7.5\u001b[0m%\tF-Score: \u001b[32m  8.1\u001b[0m%\u001b[0m\n",
      "Key: \u001b[31m<nop>\u001b[0m\tPrec: \u001b[32m 95.6\u001b[0m%\tRecall: \u001b[32m 96.0\u001b[0m%\tF-Score: \u001b[32m 95.8\u001b[0m%\u001b[0m\n",
      "Key: \u001b[31m  .\u001b[0m\tPrec: \u001b[32m  0.0\u001b[0m%\tRecall: \u001b[32m  0.0\u001b[0m%\tF-Score:   N/A\u001b[0m\n",
      "Key: \u001b[31m  '\u001b[0m\tPrec: \u001b[32m  0.0\u001b[0m%\tRecall: \u001b[32m  0.0\u001b[0m%\tF-Score:   N/A\u001b[0m\n",
      "Key: \u001b[31m  ,\u001b[0m\tPrec: \u001b[32m  0.0\u001b[0m%\tRecall: \u001b[32m  0.0\u001b[0m%\tF-Score:   N/A\u001b[0m\n",
      "Key: \u001b[31m  \"\u001b[0m\tPrec: \u001b[32m  0.0\u001b[0m%\tRecall: \u001b[32m  0.0\u001b[0m%\tF-Score:   N/A\u001b[0m\n",
      "Key: \u001b[31m  $\u001b[0m\tPrec: \u001b[32m  0.0\u001b[0m%\tRecall: \u001b[32m  0.0\u001b[0m%\tF-Score:   N/A\u001b[0m\n",
      "\n",
      "\n"
     ]
    },
    {
     "name": "stderr",
     "output_type": "stream",
     "text": [
      "76it [00:07, 11.56it/s]"
     ]
    },
    {
     "name": "stdout",
     "output_type": "stream",
     "text": [
      "Epoch 1 Batch 75\n",
      "=================================\n",
      "Key: \u001b[31m<cap>\u001b[0m\tPrec: \u001b[32m 23.1\u001b[0m%\tRecall: \u001b[32m 25.0\u001b[0m%\tF-Score: \u001b[32m 24.0\u001b[0m%\u001b[0m\n",
      "Key: \u001b[31m<nop>\u001b[0m\tPrec: \u001b[32m 95.3\u001b[0m%\tRecall: \u001b[32m 95.1\u001b[0m%\tF-Score: \u001b[32m 95.2\u001b[0m%\u001b[0m\n",
      "Key: \u001b[31m  ,\u001b[0m\tPrec: \u001b[32m  0.0\u001b[0m%\tRecall: \u001b[32m  0.0\u001b[0m%\tF-Score:   N/A\u001b[0m\n",
      "Key: \u001b[31m  .\u001b[0m\tPrec: \u001b[32m  0.0\u001b[0m%\tRecall: \u001b[32m  0.0\u001b[0m%\tF-Score:   N/A\u001b[0m\n",
      "Key: \u001b[31m  \"\u001b[0m\tPrec: \u001b[32m  0.0\u001b[0m%\tRecall: \u001b[32m  0.0\u001b[0m%\tF-Score:   N/A\u001b[0m\n",
      "\n",
      "\n"
     ]
    },
    {
     "name": "stderr",
     "output_type": "stream",
     "text": [
      "102it [00:09, 10.11it/s]"
     ]
    },
    {
     "name": "stdout",
     "output_type": "stream",
     "text": [
      "Epoch 1 Batch 100\n",
      "=================================\n",
      "Key: \u001b[31m  \"\u001b[0m\tPrec: \u001b[32m  0.0\u001b[0m%\tRecall: \u001b[32m  0.0\u001b[0m%\tF-Score:   N/A\u001b[0m\n",
      "Key: \u001b[31m<nop>\u001b[0m\tPrec: \u001b[32m 94.6\u001b[0m%\tRecall: \u001b[32m 97.3\u001b[0m%\tF-Score: \u001b[32m 95.9\u001b[0m%\u001b[0m\n",
      "Key: \u001b[31m  ,\u001b[0m\tPrec: \u001b[32m  5.9\u001b[0m%\tRecall: \u001b[32m  5.3\u001b[0m%\tF-Score: \u001b[32m  5.6\u001b[0m%\u001b[0m\n",
      "Key: \u001b[31m  .\u001b[0m\tPrec: \u001b[32m  0.0\u001b[0m%\tRecall: \u001b[32m  0.0\u001b[0m%\tF-Score:   N/A\u001b[0m\n",
      "Key: \u001b[31m<cap>\u001b[0m\tPrec: \u001b[32m 19.3\u001b[0m%\tRecall: \u001b[32m  8.3\u001b[0m%\tF-Score: \u001b[32m 11.6\u001b[0m%\u001b[0m\n",
      "Key: \u001b[31m  '\u001b[0m\tPrec: \u001b[32m  0.0\u001b[0m%\tRecall: \u001b[32m  0.0\u001b[0m%\tF-Score:   N/A\u001b[0m\n",
      "\n",
      "\n",
      "\"Ini telah dibentuk untuk mewujudkan beberapa kes yang harus tidak dibawa ke kamar terbuka tetapi dibincangkan secara tertutup bersama peguam syarie dan sivil,\" katanya.      \n",
      "I,ni telAh dibentuk untuk mewujudkan beberAp,a keS yang harus ,tidak dibawa ke kamaR TeRbuka tetapi dibincangkan secara terTutup bersama peguam syarie dan sivil\" katAnya     ? \n"
     ]
    },
    {
     "name": "stderr",
     "output_type": "stream",
     "text": [
      "125it [00:11,  9.52it/s]"
     ]
    },
    {
     "name": "stdout",
     "output_type": "stream",
     "text": [
      "Epoch 1 Batch 125\n",
      "=================================\n",
      "Key: \u001b[31m<cap>\u001b[0m\tPrec: \u001b[32m  9.9\u001b[0m%\tRecall: \u001b[32m 10.5\u001b[0m%\tF-Score: \u001b[32m 10.2\u001b[0m%\u001b[0m\n",
      "Key: \u001b[31m<nop>\u001b[0m\tPrec: \u001b[32m 96.6\u001b[0m%\tRecall: \u001b[32m 96.2\u001b[0m%\tF-Score: \u001b[32m 96.4\u001b[0m%\u001b[0m\n",
      "Key: \u001b[31m  ,\u001b[0m\tPrec: \u001b[32m  6.7\u001b[0m%\tRecall: \u001b[32m  9.1\u001b[0m%\tF-Score: \u001b[32m  7.7\u001b[0m%\u001b[0m\n",
      "Key: \u001b[31m  .\u001b[0m\tPrec: \u001b[32m  0.0\u001b[0m%\tRecall: \u001b[32m  0.0\u001b[0m%\tF-Score:   N/A\u001b[0m\n",
      "Key: \u001b[31m  :\u001b[0m\tPrec: \u001b[32m  0.0\u001b[0m%\tRecall: \u001b[32m  0.0\u001b[0m%\tF-Score:   N/A\u001b[0m\n",
      "Key: \u001b[31m  $\u001b[0m\tPrec: \u001b[32m  0.0\u001b[0m%\tRecall: \u001b[32m  0.0\u001b[0m%\tF-Score:   N/A\u001b[0m\n",
      "\n",
      "\n"
     ]
    },
    {
     "name": "stderr",
     "output_type": "stream",
     "text": [
      "152it [00:14, 13.77it/s]"
     ]
    },
    {
     "name": "stdout",
     "output_type": "stream",
     "text": [
      "Epoch 1 Batch 150\n",
      "=================================\n",
      "Key: \u001b[31m<cap>\u001b[0m\tPrec: \u001b[32m 18.8\u001b[0m%\tRecall: \u001b[32m 36.4\u001b[0m%\tF-Score: \u001b[32m 24.7\u001b[0m%\u001b[0m\n",
      "Key: \u001b[31m<nop>\u001b[0m\tPrec: \u001b[32m 97.1\u001b[0m%\tRecall: \u001b[32m 94.0\u001b[0m%\tF-Score: \u001b[32m 95.5\u001b[0m%\u001b[0m\n",
      "Key: \u001b[31m  ,\u001b[0m\tPrec: \u001b[32m  0.0\u001b[0m%\tRecall: \u001b[32m  0.0\u001b[0m%\tF-Score:   N/A\u001b[0m\n",
      "Key: \u001b[31m  .\u001b[0m\tPrec: \u001b[32m  0.0\u001b[0m%\tRecall: \u001b[32m  0.0\u001b[0m%\tF-Score:   N/A\u001b[0m\n",
      "Key: \u001b[31m  '\u001b[0m\tPrec: \u001b[32m  0.0\u001b[0m%\tRecall: \u001b[32m  0.0\u001b[0m%\tF-Score:   N/A\u001b[0m\n",
      "Key: \u001b[31m  ?\u001b[0m\tPrec: \u001b[32m  0.0\u001b[0m%\tRecall: \u001b[32m  0.0\u001b[0m%\tF-Score:   N/A\u001b[0m\n",
      "\n",
      "\n"
     ]
    },
    {
     "name": "stderr",
     "output_type": "stream",
     "text": [
      "176it [00:16, 10.96it/s]"
     ]
    },
    {
     "name": "stdout",
     "output_type": "stream",
     "text": [
      "Epoch 1 Batch 175\n",
      "=================================\n",
      "Key: \u001b[31m<cap>\u001b[0m\tPrec: \u001b[32m 25.5\u001b[0m%\tRecall: \u001b[32m 20.6\u001b[0m%\tF-Score: \u001b[32m 22.8\u001b[0m%\u001b[0m\n",
      "Key: \u001b[31m<nop>\u001b[0m\tPrec: \u001b[32m 95.1\u001b[0m%\tRecall: \u001b[32m 96.1\u001b[0m%\tF-Score: \u001b[32m 95.6\u001b[0m%\u001b[0m\n",
      "Key: \u001b[31m  ,\u001b[0m\tPrec: \u001b[32m  0.0\u001b[0m%\tRecall: \u001b[32m  0.0\u001b[0m%\tF-Score:   N/A\u001b[0m\n",
      "Key: \u001b[31m  \"\u001b[0m\tPrec: \u001b[32m  0.0\u001b[0m%\tRecall: \u001b[32m  0.0\u001b[0m%\tF-Score:   N/A\u001b[0m\n",
      "Key: \u001b[31m  '\u001b[0m\tPrec: \u001b[32m  0.0\u001b[0m%\tRecall: \u001b[32m  0.0\u001b[0m%\tF-Score:   N/A\u001b[0m\n",
      "Key: \u001b[31m  .\u001b[0m\tPrec: \u001b[32m  0.0\u001b[0m%\tRecall: \u001b[32m  0.0\u001b[0m%\tF-Score:   N/A\u001b[0m\n",
      "\n",
      "\n"
     ]
    },
    {
     "name": "stderr",
     "output_type": "stream",
     "text": [
      "203it [00:19, 12.10it/s]"
     ]
    },
    {
     "name": "stdout",
     "output_type": "stream",
     "text": [
      "Epoch 1 Batch 200\n",
      "=================================\n",
      "Key: \u001b[31m<cap>\u001b[0m\tPrec: \u001b[32m 30.3\u001b[0m%\tRecall: \u001b[32m 20.2\u001b[0m%\tF-Score: \u001b[32m 24.2\u001b[0m%\u001b[0m\n",
      "Key: \u001b[31m<nop>\u001b[0m\tPrec: \u001b[32m 93.0\u001b[0m%\tRecall: \u001b[32m 95.6\u001b[0m%\tF-Score: \u001b[32m 94.3\u001b[0m%\u001b[0m\n",
      "Key: \u001b[31m  ,\u001b[0m\tPrec: \u001b[32m  7.1\u001b[0m%\tRecall: \u001b[32m  9.1\u001b[0m%\tF-Score: \u001b[32m  8.0\u001b[0m%\u001b[0m\n",
      "Key: \u001b[31m  .\u001b[0m\tPrec: \u001b[32m  0.0\u001b[0m%\tRecall: \u001b[32m  0.0\u001b[0m%\tF-Score:   N/A\u001b[0m\n",
      "Key: \u001b[31m  \"\u001b[0m\tPrec: \u001b[32m  0.0\u001b[0m%\tRecall: \u001b[32m  0.0\u001b[0m%\tF-Score:   N/A\u001b[0m\n",
      "Key: \u001b[31m  '\u001b[0m\tPrec: \u001b[32m  0.0\u001b[0m%\tRecall: \u001b[32m  0.0\u001b[0m%\tF-Score:   N/A\u001b[0m\n",
      "\n",
      "\n",
      "Mahkamah Rayuan Thai sebelum ini menggugurkan tuduhan mengkhianat yang boleh membawa hukuma\n",
      "MAh.kaMa,h rayuan thai sebeLum ini menggugurkan tuduhan Mengkhianat yang boleh Membawa hukuma\n"
     ]
    },
    {
     "name": "stderr",
     "output_type": "stream",
     "text": [
      "225it [00:21, 10.51it/s]"
     ]
    },
    {
     "name": "stdout",
     "output_type": "stream",
     "text": [
      "Epoch 1 Batch 225\n",
      "=================================\n",
      "Key: \u001b[31m  \"\u001b[0m\tPrec: \u001b[32m  0.0\u001b[0m%\tRecall: \u001b[32m  0.0\u001b[0m%\tF-Score:   N/A\u001b[0m\n",
      "Key: \u001b[31m<nop>\u001b[0m\tPrec: \u001b[32m 95.6\u001b[0m%\tRecall: \u001b[32m 96.5\u001b[0m%\tF-Score: \u001b[32m 96.0\u001b[0m%\u001b[0m\n",
      "Key: \u001b[31m<cap>\u001b[0m\tPrec: \u001b[32m 29.0\u001b[0m%\tRecall: \u001b[32m 21.1\u001b[0m%\tF-Score: \u001b[32m 24.4\u001b[0m%\u001b[0m\n",
      "Key: \u001b[31m  ,\u001b[0m\tPrec: \u001b[32m  7.1\u001b[0m%\tRecall: \u001b[32m  8.3\u001b[0m%\tF-Score: \u001b[32m  7.7\u001b[0m%\u001b[0m\n",
      "Key: \u001b[31m  .\u001b[0m\tPrec: \u001b[32m  0.0\u001b[0m%\tRecall: \u001b[32m  0.0\u001b[0m%\tF-Score:   N/A\u001b[0m\n",
      "Key: \u001b[31m  '\u001b[0m\tPrec: \u001b[32m  0.0\u001b[0m%\tRecall: \u001b[32m  0.0\u001b[0m%\tF-Score:   N/A\u001b[0m\n",
      "Key: \u001b[31m  :\u001b[0m\tPrec: \u001b[32m  0.0\u001b[0m%\tRecall: \u001b[32m  0.0\u001b[0m%\tF-Score:   N/A\u001b[0m\n",
      "Key: \u001b[31m  !\u001b[0m\tPrec: \u001b[32m  0.0\u001b[0m%\tRecall: \u001b[32m  0.0\u001b[0m%\tF-Score:   N/A\u001b[0m\n",
      "\n",
      "\n"
     ]
    },
    {
     "name": "stderr",
     "output_type": "stream",
     "text": [
      "250it [00:23, 13.39it/s]"
     ]
    },
    {
     "name": "stdout",
     "output_type": "stream",
     "text": [
      "Epoch 1 Batch 250\n",
      "=================================\n",
      "Key: \u001b[31m<cap>\u001b[0m\tPrec: \u001b[32m 25.0\u001b[0m%\tRecall: \u001b[32m 21.1\u001b[0m%\tF-Score: \u001b[32m 22.9\u001b[0m%\u001b[0m\n",
      "Key: \u001b[31m<nop>\u001b[0m\tPrec: \u001b[32m 96.5\u001b[0m%\tRecall: \u001b[32m 97.4\u001b[0m%\tF-Score: \u001b[32m 97.0\u001b[0m%\u001b[0m\n",
      "Key: \u001b[31m  ,\u001b[0m\tPrec: \u001b[32m 11.1\u001b[0m%\tRecall: \u001b[32m  5.3\u001b[0m%\tF-Score: \u001b[32m  7.1\u001b[0m%\u001b[0m\n",
      "Key: \u001b[31m  .\u001b[0m\tPrec: \u001b[32m  0.0\u001b[0m%\tRecall: \u001b[32m  0.0\u001b[0m%\tF-Score:   N/A\u001b[0m\n",
      "\n",
      "\n"
     ]
    },
    {
     "name": "stderr",
     "output_type": "stream",
     "text": [
      "273it [00:26,  8.16it/s]"
     ]
    },
    {
     "name": "stdout",
     "output_type": "stream",
     "text": [
      "Epoch 1 Batch 275\n",
      "=================================\n",
      "Key: \u001b[31m<cap>\u001b[0m\tPrec: \u001b[32m 36.4\u001b[0m%\tRecall: \u001b[32m 39.2\u001b[0m%\tF-Score: \u001b[32m 37.7\u001b[0m%\u001b[0m\n",
      "Key: \u001b[31m<nop>\u001b[0m\tPrec: \u001b[32m 94.1\u001b[0m%\tRecall: \u001b[32m 94.4\u001b[0m%\tF-Score: \u001b[32m 94.2\u001b[0m%\u001b[0m\n",
      "Key: \u001b[31m  ,\u001b[0m\tPrec: \u001b[32m  0.0\u001b[0m%\tRecall: \u001b[32m  0.0\u001b[0m%\tF-Score:   N/A\u001b[0m\n",
      "Key: \u001b[31m  .\u001b[0m\tPrec: \u001b[32m  0.0\u001b[0m%\tRecall: \u001b[32m  0.0\u001b[0m%\tF-Score:   N/A\u001b[0m\n",
      "\n",
      "\n"
     ]
    },
    {
     "name": "stderr",
     "output_type": "stream",
     "text": [
      "301it [00:28, 12.71it/s]"
     ]
    },
    {
     "name": "stdout",
     "output_type": "stream",
     "text": [
      "Epoch 1 Batch 300\n",
      "=================================\n",
      "Key: \u001b[31m<nop>\u001b[0m\tPrec: \u001b[32m 93.7\u001b[0m%\tRecall: \u001b[32m 92.9\u001b[0m%\tF-Score: \u001b[32m 93.3\u001b[0m%\u001b[0m\n",
      "Key: \u001b[31m  ,\u001b[0m\tPrec: \u001b[32m 25.0\u001b[0m%\tRecall: \u001b[32m  9.1\u001b[0m%\tF-Score: \u001b[32m 13.3\u001b[0m%\u001b[0m\n",
      "Key: \u001b[31m<cap>\u001b[0m\tPrec: \u001b[32m 31.7\u001b[0m%\tRecall: \u001b[32m 39.4\u001b[0m%\tF-Score: \u001b[32m 35.1\u001b[0m%\u001b[0m\n",
      "Key: \u001b[31m  .\u001b[0m\tPrec: \u001b[32m  0.0\u001b[0m%\tRecall: \u001b[32m  0.0\u001b[0m%\tF-Score:   N/A\u001b[0m\n",
      "Key: \u001b[31m  \"\u001b[0m\tPrec: \u001b[32m  0.0\u001b[0m%\tRecall: \u001b[32m  0.0\u001b[0m%\tF-Score:   N/A\u001b[0m\n",
      "Key: \u001b[31m  '\u001b[0m\tPrec: \u001b[32m100.0\u001b[0m%\tRecall: \u001b[32m 66.7\u001b[0m%\tF-Score: \u001b[32m 80.0\u001b[0m%\u001b[0m\n",
      "\n",
      "\n",
      "naik pangkat pergi ke ibu pejabat, \n",
      "Naik pangkat pergi ke ibu pejabat \n"
     ]
    },
    {
     "name": "stderr",
     "output_type": "stream",
     "text": [
      "326it [00:31,  8.28it/s]"
     ]
    },
    {
     "name": "stdout",
     "output_type": "stream",
     "text": [
      "Epoch 1 Batch 325\n",
      "=================================\n",
      "Key: \u001b[31m<cap>\u001b[0m\tPrec: \u001b[32m 33.8\u001b[0m%\tRecall: \u001b[32m 39.3\u001b[0m%\tF-Score: \u001b[32m 36.4\u001b[0m%\u001b[0m\n",
      "Key: \u001b[31m<nop>\u001b[0m\tPrec: \u001b[32m 97.2\u001b[0m%\tRecall: \u001b[32m 96.9\u001b[0m%\tF-Score: \u001b[32m 97.0\u001b[0m%\u001b[0m\n",
      "Key: \u001b[31m  ,\u001b[0m\tPrec: \u001b[32m  6.2\u001b[0m%\tRecall: \u001b[32m  6.2\u001b[0m%\tF-Score: \u001b[32m  6.2\u001b[0m%\u001b[0m\n",
      "Key: \u001b[31m  .\u001b[0m\tPrec: \u001b[32m  0.0\u001b[0m%\tRecall: \u001b[32m  0.0\u001b[0m%\tF-Score:   N/A\u001b[0m\n",
      "Key: \u001b[31m  ?\u001b[0m\tPrec: \u001b[32m  0.0\u001b[0m%\tRecall: \u001b[32m  0.0\u001b[0m%\tF-Score:   N/A\u001b[0m\n",
      "Key: \u001b[31m  '\u001b[0m\tPrec: \u001b[32m100.0\u001b[0m%\tRecall: \u001b[32m 50.0\u001b[0m%\tF-Score: \u001b[32m 66.7\u001b[0m%\u001b[0m\n",
      "\n",
      "\n"
     ]
    },
    {
     "name": "stderr",
     "output_type": "stream",
     "text": [
      "352it [00:33,  9.69it/s]"
     ]
    },
    {
     "name": "stdout",
     "output_type": "stream",
     "text": [
      "Epoch 1 Batch 350\n",
      "=================================\n",
      "Key: \u001b[31m<cap>\u001b[0m\tPrec: \u001b[32m 32.1\u001b[0m%\tRecall: \u001b[32m 35.4\u001b[0m%\tF-Score: \u001b[32m 33.7\u001b[0m%\u001b[0m\n",
      "Key: \u001b[31m<nop>\u001b[0m\tPrec: \u001b[32m 98.0\u001b[0m%\tRecall: \u001b[32m 98.2\u001b[0m%\tF-Score: \u001b[32m 98.1\u001b[0m%\u001b[0m\n",
      "Key: \u001b[31m  ,\u001b[0m\tPrec: \u001b[32m  9.1\u001b[0m%\tRecall: \u001b[32m  5.9\u001b[0m%\tF-Score: \u001b[32m  7.1\u001b[0m%\u001b[0m\n",
      "Key: \u001b[31m  .\u001b[0m\tPrec: \u001b[32m  7.1\u001b[0m%\tRecall: \u001b[32m  5.3\u001b[0m%\tF-Score: \u001b[32m  6.1\u001b[0m%\u001b[0m\n",
      "Key: \u001b[31m  \"\u001b[0m\tPrec: \u001b[32m  0.0\u001b[0m%\tRecall: \u001b[32m  0.0\u001b[0m%\tF-Score:   N/A\u001b[0m\n",
      "Key: \u001b[31m  '\u001b[0m\tPrec: \u001b[32m  0.0\u001b[0m%\tRecall: \u001b[32m  0.0\u001b[0m%\tF-Score:   N/A\u001b[0m\n",
      "\n",
      "\n"
     ]
    },
    {
     "name": "stderr",
     "output_type": "stream",
     "text": [
      "375it [00:35, 14.52it/s]"
     ]
    },
    {
     "name": "stdout",
     "output_type": "stream",
     "text": [
      "Epoch 1 Batch 375\n",
      "=================================\n",
      "Key: \u001b[31m<cap>\u001b[0m\tPrec: \u001b[32m 29.4\u001b[0m%\tRecall: \u001b[32m 31.2\u001b[0m%\tF-Score: \u001b[32m 30.3\u001b[0m%\u001b[0m\n",
      "Key: \u001b[31m<nop>\u001b[0m\tPrec: \u001b[32m 97.7\u001b[0m%\tRecall: \u001b[32m 97.6\u001b[0m%\tF-Score: \u001b[32m 97.6\u001b[0m%\u001b[0m\n",
      "Key: \u001b[31m  ,\u001b[0m\tPrec: \u001b[32m  0.0\u001b[0m%\tRecall: \u001b[32m  0.0\u001b[0m%\tF-Score:   N/A\u001b[0m\n",
      "Key: \u001b[31m  .\u001b[0m\tPrec: \u001b[32m  7.7\u001b[0m%\tRecall: \u001b[32m  8.3\u001b[0m%\tF-Score: \u001b[32m  8.0\u001b[0m%\u001b[0m\n",
      "Key: \u001b[31m  ?\u001b[0m\tPrec: \u001b[32m  0.0\u001b[0m%\tRecall: \u001b[32m  0.0\u001b[0m%\tF-Score:   N/A\u001b[0m\n",
      "Key: \u001b[31m  :\u001b[0m\tPrec: \u001b[32m  0.0\u001b[0m%\tRecall: \u001b[32m  0.0\u001b[0m%\tF-Score:   N/A\u001b[0m\n",
      "\n",
      "\n"
     ]
    },
    {
     "name": "stderr",
     "output_type": "stream",
     "text": [
      "400it [00:37,  9.97it/s]"
     ]
    },
    {
     "name": "stdout",
     "output_type": "stream",
     "text": [
      "Epoch 1 Batch 400\n",
      "=================================\n",
      "Key: \u001b[31m<cap>\u001b[0m\tPrec: \u001b[32m 43.4\u001b[0m%\tRecall: \u001b[32m 39.7\u001b[0m%\tF-Score: \u001b[32m 41.4\u001b[0m%\u001b[0m\n",
      "Key: \u001b[31m<nop>\u001b[0m\tPrec: \u001b[32m 95.8\u001b[0m%\tRecall: \u001b[32m 96.6\u001b[0m%\tF-Score: \u001b[32m 96.2\u001b[0m%\u001b[0m\n",
      "Key: \u001b[31m  ,\u001b[0m\tPrec: \u001b[32m  8.3\u001b[0m%\tRecall: \u001b[32m  7.7\u001b[0m%\tF-Score: \u001b[32m  8.0\u001b[0m%\u001b[0m\n",
      "Key: \u001b[31m  .\u001b[0m\tPrec: \u001b[32m 16.7\u001b[0m%\tRecall: \u001b[32m 16.7\u001b[0m%\tF-Score: \u001b[32m 16.7\u001b[0m%\u001b[0m\n",
      "Key: \u001b[31m  \"\u001b[0m\tPrec: \u001b[32m 33.3\u001b[0m%\tRecall: \u001b[32m 25.0\u001b[0m%\tF-Score: \u001b[32m 28.6\u001b[0m%\u001b[0m\n",
      "Key: \u001b[31m  '\u001b[0m\tPrec: \u001b[32m  0.0\u001b[0m%\tRecall: \u001b[32m  0.0\u001b[0m%\tF-Score:   N/A\u001b[0m\n",
      "\n",
      "\n",
      "Tegasnya, perkara itu perlu diberi perhatian serius kerana skop bencana itu sangat luas.   \n",
      "Tegasnya perkara itu Perlu, diberi perhatian. serius kerana skop Bencana itu sangat luas   \n"
     ]
    },
    {
     "name": "stderr",
     "output_type": "stream",
     "text": [
      "426it [00:40, 10.45it/s]"
     ]
    },
    {
     "name": "stdout",
     "output_type": "stream",
     "text": [
      "Epoch 1 Batch 425\n",
      "=================================\n",
      "Key: \u001b[31m<cap>\u001b[0m\tPrec: \u001b[32m 42.6\u001b[0m%\tRecall: \u001b[32m 38.7\u001b[0m%\tF-Score: \u001b[32m 40.6\u001b[0m%\u001b[0m\n",
      "Key: \u001b[31m<nop>\u001b[0m\tPrec: \u001b[32m 95.7\u001b[0m%\tRecall: \u001b[32m 96.3\u001b[0m%\tF-Score: \u001b[32m 96.0\u001b[0m%\u001b[0m\n",
      "Key: \u001b[31m  .\u001b[0m\tPrec: \u001b[32m 33.3\u001b[0m%\tRecall: \u001b[32m 25.0\u001b[0m%\tF-Score: \u001b[32m 28.6\u001b[0m%\u001b[0m\n",
      "Key: \u001b[31m  ,\u001b[0m\tPrec: \u001b[32m 25.0\u001b[0m%\tRecall: \u001b[32m 21.4\u001b[0m%\tF-Score: \u001b[32m 23.1\u001b[0m%\u001b[0m\n",
      "Key: \u001b[31m  \"\u001b[0m\tPrec: \u001b[32m100.0\u001b[0m%\tRecall: \u001b[32m100.0\u001b[0m%\tF-Score: \u001b[32m100.0\u001b[0m%\u001b[0m\n",
      "Key: \u001b[31m  :\u001b[0m\tPrec: \u001b[32m  0.0\u001b[0m%\tRecall: \u001b[32m  0.0\u001b[0m%\tF-Score:   N/A\u001b[0m\n",
      "\n",
      "\n"
     ]
    },
    {
     "name": "stderr",
     "output_type": "stream",
     "text": [
      "451it [00:43,  6.92it/s]"
     ]
    },
    {
     "name": "stdout",
     "output_type": "stream",
     "text": [
      "Epoch 1 Batch 450\n",
      "=================================\n",
      "Key: \u001b[31m<cap>\u001b[0m\tPrec: \u001b[32m 28.6\u001b[0m%\tRecall: \u001b[32m 40.5\u001b[0m%\tF-Score: \u001b[32m 33.5\u001b[0m%\u001b[0m\n",
      "Key: \u001b[31m<nop>\u001b[0m\tPrec: \u001b[32m 98.0\u001b[0m%\tRecall: \u001b[32m 97.6\u001b[0m%\tF-Score: \u001b[32m 97.8\u001b[0m%\u001b[0m\n",
      "Key: \u001b[31m  .\u001b[0m\tPrec: \u001b[32m 23.1\u001b[0m%\tRecall: \u001b[32m 13.0\u001b[0m%\tF-Score: \u001b[32m 16.7\u001b[0m%\u001b[0m\n",
      "Key: \u001b[31m  ,\u001b[0m\tPrec: \u001b[32m  9.1\u001b[0m%\tRecall: \u001b[32m 10.5\u001b[0m%\tF-Score: \u001b[32m  9.8\u001b[0m%\u001b[0m\n",
      "Key: \u001b[31m  '\u001b[0m\tPrec: \u001b[32m  0.0\u001b[0m%\tRecall: \u001b[32m  0.0\u001b[0m%\tF-Score:   N/A\u001b[0m\n",
      "Key: \u001b[31m  :\u001b[0m\tPrec: \u001b[32m  0.0\u001b[0m%\tRecall: \u001b[32m  0.0\u001b[0m%\tF-Score:   N/A\u001b[0m\n",
      "\n",
      "\n"
     ]
    },
    {
     "name": "stderr",
     "output_type": "stream",
     "text": [
      "475it [00:45, 11.91it/s]"
     ]
    },
    {
     "name": "stdout",
     "output_type": "stream",
     "text": [
      "Epoch 1 Batch 475\n",
      "=================================\n",
      "Key: \u001b[31m<cap>\u001b[0m\tPrec: \u001b[32m 78.6\u001b[0m%\tRecall: \u001b[32m 55.0\u001b[0m%\tF-Score: \u001b[32m 64.7\u001b[0m%\u001b[0m\n",
      "Key: \u001b[31m<nop>\u001b[0m\tPrec: \u001b[32m 90.2\u001b[0m%\tRecall: \u001b[32m 97.1\u001b[0m%\tF-Score: \u001b[32m 93.5\u001b[0m%\u001b[0m\n",
      "Key: \u001b[31m  '\u001b[0m\tPrec: \u001b[32m  0.0\u001b[0m%\tRecall: \u001b[32m  0.0\u001b[0m%\tF-Score:   N/A\u001b[0m\n",
      "\n",
      "\n"
     ]
    },
    {
     "name": "stderr",
     "output_type": "stream",
     "text": [
      "502it [00:47, 12.41it/s]"
     ]
    },
    {
     "name": "stdout",
     "output_type": "stream",
     "text": [
      "Epoch 1 Batch 500\n",
      "=================================\n",
      "Key: \u001b[31m<cap>\u001b[0m\tPrec: \u001b[32m 33.9\u001b[0m%\tRecall: \u001b[32m 48.8\u001b[0m%\tF-Score: \u001b[32m 40.0\u001b[0m%\u001b[0m\n",
      "Key: \u001b[31m<nop>\u001b[0m\tPrec: \u001b[32m 97.9\u001b[0m%\tRecall: \u001b[32m 97.2\u001b[0m%\tF-Score: \u001b[32m 97.5\u001b[0m%\u001b[0m\n",
      "Key: \u001b[31m  ,\u001b[0m\tPrec: \u001b[32m 11.1\u001b[0m%\tRecall: \u001b[32m  8.7\u001b[0m%\tF-Score: \u001b[32m  9.8\u001b[0m%\u001b[0m\n",
      "Key: \u001b[31m  .\u001b[0m\tPrec: \u001b[32m 15.4\u001b[0m%\tRecall: \u001b[32m 28.6\u001b[0m%\tF-Score: \u001b[32m 20.0\u001b[0m%\u001b[0m\n",
      "Key: \u001b[31m  '\u001b[0m\tPrec: \u001b[32m 50.0\u001b[0m%\tRecall: \u001b[32m100.0\u001b[0m%\tF-Score: \u001b[32m 66.7\u001b[0m%\u001b[0m\n",
      "\n",
      "\n",
      "Yang membuat liputan di Pameran Udara Farnborough, England barubaru ini                                                                               \n",
      "yang membuat liputan di pameran udara farnborough england barubaru Ini                                                                         ,      \n"
     ]
    },
    {
     "name": "stderr",
     "output_type": "stream",
     "text": [
      "526it [00:50,  8.47it/s]"
     ]
    },
    {
     "name": "stdout",
     "output_type": "stream",
     "text": [
      "Epoch 1 Batch 525\n",
      "=================================\n",
      "Key: \u001b[31m<cap>\u001b[0m\tPrec: \u001b[32m 42.9\u001b[0m%\tRecall: \u001b[32m 54.5\u001b[0m%\tF-Score: \u001b[32m 48.0\u001b[0m%\u001b[0m\n",
      "Key: \u001b[31m<nop>\u001b[0m\tPrec: \u001b[32m 97.1\u001b[0m%\tRecall: \u001b[32m 96.6\u001b[0m%\tF-Score: \u001b[32m 96.9\u001b[0m%\u001b[0m\n",
      "Key: \u001b[31m  ,\u001b[0m\tPrec: \u001b[32m  0.0\u001b[0m%\tRecall: \u001b[32m  0.0\u001b[0m%\tF-Score:   N/A\u001b[0m\n",
      "Key: \u001b[31m  .\u001b[0m\tPrec: \u001b[32m 50.0\u001b[0m%\tRecall: \u001b[32m 12.5\u001b[0m%\tF-Score: \u001b[32m 20.0\u001b[0m%\u001b[0m\n",
      "Key: \u001b[31m  ?\u001b[0m\tPrec: \u001b[32m  0.0\u001b[0m%\tRecall: \u001b[32m  0.0\u001b[0m%\tF-Score:   N/A\u001b[0m\n",
      "Key: \u001b[31m  :\u001b[0m\tPrec: \u001b[32m  0.0\u001b[0m%\tRecall: \u001b[32m  0.0\u001b[0m%\tF-Score:   N/A\u001b[0m\n",
      "\n",
      "\n"
     ]
    },
    {
     "name": "stderr",
     "output_type": "stream",
     "text": [
      "551it [00:53, 12.84it/s]"
     ]
    },
    {
     "name": "stdout",
     "output_type": "stream",
     "text": [
      "Epoch 1 Batch 550\n",
      "=================================\n",
      "Key: \u001b[31m<cap>\u001b[0m\tPrec: \u001b[32m 53.2\u001b[0m%\tRecall: \u001b[32m 47.2\u001b[0m%\tF-Score: \u001b[32m 50.0\u001b[0m%\u001b[0m\n",
      "Key: \u001b[31m<nop>\u001b[0m\tPrec: \u001b[32m 97.7\u001b[0m%\tRecall: \u001b[32m 98.4\u001b[0m%\tF-Score: \u001b[32m 98.1\u001b[0m%\u001b[0m\n",
      "Key: \u001b[31m  ,\u001b[0m\tPrec: \u001b[32m  0.0\u001b[0m%\tRecall: \u001b[32m  0.0\u001b[0m%\tF-Score:   N/A\u001b[0m\n",
      "Key: \u001b[31m  .\u001b[0m\tPrec: \u001b[32m 33.3\u001b[0m%\tRecall: \u001b[32m 20.0\u001b[0m%\tF-Score: \u001b[32m 25.0\u001b[0m%\u001b[0m\n",
      "\n",
      "\n"
     ]
    },
    {
     "name": "stderr",
     "output_type": "stream",
     "text": [
      "575it [00:55,  8.99it/s]"
     ]
    },
    {
     "name": "stdout",
     "output_type": "stream",
     "text": [
      "Epoch 1 Batch 575\n",
      "=================================\n",
      "Key: \u001b[31m  \"\u001b[0m\tPrec: \u001b[32m  0.0\u001b[0m%\tRecall: \u001b[32m  0.0\u001b[0m%\tF-Score:   N/A\u001b[0m\n",
      "Key: \u001b[31m<nop>\u001b[0m\tPrec: \u001b[32m 97.8\u001b[0m%\tRecall: \u001b[32m 98.7\u001b[0m%\tF-Score: \u001b[32m 98.3\u001b[0m%\u001b[0m\n",
      "Key: \u001b[31m  ,\u001b[0m\tPrec: \u001b[32m 22.2\u001b[0m%\tRecall: \u001b[32m 19.0\u001b[0m%\tF-Score: \u001b[32m 20.5\u001b[0m%\u001b[0m\n",
      "Key: \u001b[31m<cap>\u001b[0m\tPrec: \u001b[32m 44.3\u001b[0m%\tRecall: \u001b[32m 33.7\u001b[0m%\tF-Score: \u001b[32m 38.3\u001b[0m%\u001b[0m\n",
      "Key: \u001b[31m  .\u001b[0m\tPrec: \u001b[32m 68.8\u001b[0m%\tRecall: \u001b[32m 45.8\u001b[0m%\tF-Score: \u001b[32m 55.0\u001b[0m%\u001b[0m\n",
      "Key: \u001b[31m  '\u001b[0m\tPrec: \u001b[32m100.0\u001b[0m%\tRecall: \u001b[32m 50.0\u001b[0m%\tF-Score: \u001b[32m 66.7\u001b[0m%\u001b[0m\n",
      "Key: \u001b[31m  :\u001b[0m\tPrec: \u001b[32m  0.0\u001b[0m%\tRecall: \u001b[32m  0.0\u001b[0m%\tF-Score:   N/A\u001b[0m\n",
      "\n",
      "\n"
     ]
    },
    {
     "name": "stderr",
     "output_type": "stream",
     "text": [
      "601it [00:57,  8.92it/s]"
     ]
    },
    {
     "name": "stdout",
     "output_type": "stream",
     "text": [
      "Epoch 1 Batch 600\n",
      "=================================\n",
      "Key: \u001b[31m<cap>\u001b[0m\tPrec: \u001b[32m 47.3\u001b[0m%\tRecall: \u001b[32m 36.6\u001b[0m%\tF-Score: \u001b[32m 41.3\u001b[0m%\u001b[0m\n",
      "Key: \u001b[31m<nop>\u001b[0m\tPrec: \u001b[32m 97.8\u001b[0m%\tRecall: \u001b[32m 98.7\u001b[0m%\tF-Score: \u001b[32m 98.3\u001b[0m%\u001b[0m\n",
      "Key: \u001b[31m  :\u001b[0m\tPrec: \u001b[32m  0.0\u001b[0m%\tRecall: \u001b[32m  0.0\u001b[0m%\tF-Score:   N/A\u001b[0m\n",
      "Key: \u001b[31m  .\u001b[0m\tPrec: \u001b[32m 69.2\u001b[0m%\tRecall: \u001b[32m 56.2\u001b[0m%\tF-Score: \u001b[32m 62.1\u001b[0m%\u001b[0m\n",
      "Key: \u001b[31m  ,\u001b[0m\tPrec: \u001b[32m 12.5\u001b[0m%\tRecall: \u001b[32m  4.3\u001b[0m%\tF-Score: \u001b[32m  6.5\u001b[0m%\u001b[0m\n",
      "Key: \u001b[31m  \"\u001b[0m\tPrec: \u001b[32m  0.0\u001b[0m%\tRecall: \u001b[32m  0.0\u001b[0m%\tF-Score:   N/A\u001b[0m\n",
      "Key: \u001b[31m  $\u001b[0m\tPrec: \u001b[32m  0.0\u001b[0m%\tRecall: \u001b[32m  0.0\u001b[0m%\tF-Score:   N/A\u001b[0m\n",
      "Key: \u001b[31m  '\u001b[0m\tPrec: \u001b[32m  0.0\u001b[0m%\tRecall: \u001b[32m  0.0\u001b[0m%\tF-Score:   N/A\u001b[0m\n",
      "\n",
      "\n",
      "Misteri Nusantara                                                                                                                                                                                                     \n",
      "MIsteri nusantara.                                                                                                                                                                                                     \n"
     ]
    },
    {
     "name": "stderr",
     "output_type": "stream",
     "text": [
      "625it [01:00,  9.57it/s]"
     ]
    },
    {
     "name": "stdout",
     "output_type": "stream",
     "text": [
      "Epoch 1 Batch 625\n",
      "=================================\n",
      "Key: \u001b[31m<nop>\u001b[0m\tPrec: \u001b[32m 98.0\u001b[0m%\tRecall: \u001b[32m 98.3\u001b[0m%\tF-Score: \u001b[32m 98.2\u001b[0m%\u001b[0m\n",
      "Key: \u001b[31m<cap>\u001b[0m\tPrec: \u001b[32m 35.9\u001b[0m%\tRecall: \u001b[32m 37.1\u001b[0m%\tF-Score: \u001b[32m 36.5\u001b[0m%\u001b[0m\n",
      "Key: \u001b[31m  $\u001b[0m\tPrec: \u001b[32m  0.0\u001b[0m%\tRecall: \u001b[32m  0.0\u001b[0m%\tF-Score:   N/A\u001b[0m\n",
      "Key: \u001b[31m  ,\u001b[0m\tPrec: \u001b[32m 12.5\u001b[0m%\tRecall: \u001b[32m  8.7\u001b[0m%\tF-Score: \u001b[32m 10.3\u001b[0m%\u001b[0m\n",
      "Key: \u001b[31m  .\u001b[0m\tPrec: \u001b[32m 75.0\u001b[0m%\tRecall: \u001b[32m 50.0\u001b[0m%\tF-Score: \u001b[32m 60.0\u001b[0m%\u001b[0m\n",
      "Key: \u001b[31m  !\u001b[0m\tPrec: \u001b[32m  0.0\u001b[0m%\tRecall: \u001b[32m  0.0\u001b[0m%\tF-Score:   N/A\u001b[0m\n",
      "Key: \u001b[31m  ?\u001b[0m\tPrec: \u001b[32m  0.0\u001b[0m%\tRecall: \u001b[32m  0.0\u001b[0m%\tF-Score:   N/A\u001b[0m\n",
      "\n",
      "\n"
     ]
    },
    {
     "name": "stderr",
     "output_type": "stream",
     "text": [
      "650it [01:03, 10.49it/s]"
     ]
    },
    {
     "name": "stdout",
     "output_type": "stream",
     "text": [
      "Epoch 1 Batch 650\n",
      "=================================\n",
      "Key: \u001b[31m<cap>\u001b[0m\tPrec: \u001b[32m 57.1\u001b[0m%\tRecall: \u001b[32m 39.4\u001b[0m%\tF-Score: \u001b[32m 46.7\u001b[0m%\u001b[0m\n",
      "Key: \u001b[31m<nop>\u001b[0m\tPrec: \u001b[32m 96.7\u001b[0m%\tRecall: \u001b[32m 98.1\u001b[0m%\tF-Score: \u001b[32m 97.4\u001b[0m%\u001b[0m\n",
      "Key: \u001b[31m  ,\u001b[0m\tPrec: \u001b[32m 12.5\u001b[0m%\tRecall: \u001b[32m 10.5\u001b[0m%\tF-Score: \u001b[32m 11.4\u001b[0m%\u001b[0m\n",
      "Key: \u001b[31m  .\u001b[0m\tPrec: \u001b[32m 40.0\u001b[0m%\tRecall: \u001b[32m 28.6\u001b[0m%\tF-Score: \u001b[32m 33.3\u001b[0m%\u001b[0m\n",
      "Key: \u001b[31m  :\u001b[0m\tPrec: \u001b[32m  0.0\u001b[0m%\tRecall: \u001b[32m  0.0\u001b[0m%\tF-Score:   N/A\u001b[0m\n",
      "\n",
      "\n"
     ]
    },
    {
     "name": "stderr",
     "output_type": "stream",
     "text": [
      "676it [01:05, 10.60it/s]"
     ]
    },
    {
     "name": "stdout",
     "output_type": "stream",
     "text": [
      "Epoch 1 Batch 675\n",
      "=================================\n",
      "Key: \u001b[31m<cap>\u001b[0m\tPrec: \u001b[32m 47.7\u001b[0m%\tRecall: \u001b[32m 34.4\u001b[0m%\tF-Score: \u001b[32m 40.0\u001b[0m%\u001b[0m\n",
      "Key: \u001b[31m<nop>\u001b[0m\tPrec: \u001b[32m 97.9\u001b[0m%\tRecall: \u001b[32m 98.7\u001b[0m%\tF-Score: \u001b[32m 98.3\u001b[0m%\u001b[0m\n",
      "Key: \u001b[31m  .\u001b[0m\tPrec: \u001b[32m 61.5\u001b[0m%\tRecall: \u001b[32m 72.7\u001b[0m%\tF-Score: \u001b[32m 66.7\u001b[0m%\u001b[0m\n",
      "Key: \u001b[31m  '\u001b[0m\tPrec: \u001b[32m 33.3\u001b[0m%\tRecall: \u001b[32m100.0\u001b[0m%\tF-Score: \u001b[32m 50.0\u001b[0m%\u001b[0m\n",
      "Key: \u001b[31m  ,\u001b[0m\tPrec: \u001b[32m  8.3\u001b[0m%\tRecall: \u001b[32m  5.9\u001b[0m%\tF-Score: \u001b[32m  6.9\u001b[0m%\u001b[0m\n",
      "\n",
      "\n"
     ]
    },
    {
     "name": "stderr",
     "output_type": "stream",
     "text": [
      "702it [01:08, 11.19it/s]"
     ]
    },
    {
     "name": "stdout",
     "output_type": "stream",
     "text": [
      "Epoch 1 Batch 700\n",
      "=================================\n",
      "Key: \u001b[31m<cap>\u001b[0m\tPrec: \u001b[32m 47.5\u001b[0m%\tRecall: \u001b[32m 44.2\u001b[0m%\tF-Score: \u001b[32m 45.8\u001b[0m%\u001b[0m\n",
      "Key: \u001b[31m<nop>\u001b[0m\tPrec: \u001b[32m 98.3\u001b[0m%\tRecall: \u001b[32m 98.5\u001b[0m%\tF-Score: \u001b[32m 98.4\u001b[0m%\u001b[0m\n",
      "Key: \u001b[31m  ,\u001b[0m\tPrec: \u001b[32m  0.0\u001b[0m%\tRecall: \u001b[32m  0.0\u001b[0m%\tF-Score:   N/A\u001b[0m\n",
      "Key: \u001b[31m  .\u001b[0m\tPrec: \u001b[32m 80.0\u001b[0m%\tRecall: \u001b[32m 61.5\u001b[0m%\tF-Score: \u001b[32m 69.6\u001b[0m%\u001b[0m\n",
      "\n",
      "\n",
      "Malah, beregu remaja itu turut mendapat perhatian istimewa daripada ketua jurulatih beregu negara, Rexy Mainaky.                                              \n",
      "Malah beregu remaja, itu turut mendapat perhatian istimewa daripada ketua jurulatih beregu negara rexy mainaky.                                              \n"
     ]
    },
    {
     "name": "stderr",
     "output_type": "stream",
     "text": [
      "727it [01:11, 10.65it/s]"
     ]
    },
    {
     "name": "stdout",
     "output_type": "stream",
     "text": [
      "Epoch 1 Batch 725\n",
      "=================================\n",
      "Key: \u001b[31m<cap>\u001b[0m\tPrec: \u001b[32m 32.9\u001b[0m%\tRecall: \u001b[32m 51.1\u001b[0m%\tF-Score: \u001b[32m 40.0\u001b[0m%\u001b[0m\n",
      "Key: \u001b[31m<nop>\u001b[0m\tPrec: \u001b[32m 98.2\u001b[0m%\tRecall: \u001b[32m 96.7\u001b[0m%\tF-Score: \u001b[32m 97.5\u001b[0m%\u001b[0m\n",
      "Key: \u001b[31m  .\u001b[0m\tPrec: \u001b[32m 35.3\u001b[0m%\tRecall: \u001b[32m 46.2\u001b[0m%\tF-Score: \u001b[32m 40.0\u001b[0m%\u001b[0m\n",
      "Key: \u001b[31m  ,\u001b[0m\tPrec: \u001b[32m 14.3\u001b[0m%\tRecall: \u001b[32m 18.2\u001b[0m%\tF-Score: \u001b[32m 16.0\u001b[0m%\u001b[0m\n",
      "Key: \u001b[31m  \"\u001b[0m\tPrec: \u001b[32m100.0\u001b[0m%\tRecall: \u001b[32m100.0\u001b[0m%\tF-Score: \u001b[32m100.0\u001b[0m%\u001b[0m\n",
      "Key: \u001b[31m  :\u001b[0m\tPrec: \u001b[32m  0.0\u001b[0m%\tRecall: \u001b[32m  0.0\u001b[0m%\tF-Score:   N/A\u001b[0m\n",
      "Key: \u001b[31m  ?\u001b[0m\tPrec: \u001b[32m  0.0\u001b[0m%\tRecall: \u001b[32m  0.0\u001b[0m%\tF-Score:   N/A\u001b[0m\n",
      "Key: \u001b[31m  '\u001b[0m\tPrec: \u001b[32m 50.0\u001b[0m%\tRecall: \u001b[32m 33.3\u001b[0m%\tF-Score: \u001b[32m 40.0\u001b[0m%\u001b[0m\n",
      "\n",
      "\n"
     ]
    },
    {
     "name": "stderr",
     "output_type": "stream",
     "text": [
      "751it [01:13,  8.20it/s]"
     ]
    },
    {
     "name": "stdout",
     "output_type": "stream",
     "text": [
      "Epoch 1 Batch 750\n",
      "=================================\n",
      "Key: \u001b[31m<cap>\u001b[0m\tPrec: \u001b[32m 44.3\u001b[0m%\tRecall: \u001b[32m 37.3\u001b[0m%\tF-Score: \u001b[32m 40.5\u001b[0m%\u001b[0m\n",
      "Key: \u001b[31m<nop>\u001b[0m\tPrec: \u001b[32m 98.0\u001b[0m%\tRecall: \u001b[32m 98.2\u001b[0m%\tF-Score: \u001b[32m 98.1\u001b[0m%\u001b[0m\n",
      "Key: \u001b[31m  .\u001b[0m\tPrec: \u001b[32m 57.1\u001b[0m%\tRecall: \u001b[32m 61.5\u001b[0m%\tF-Score: \u001b[32m 59.3\u001b[0m%\u001b[0m\n",
      "Key: \u001b[31m  ,\u001b[0m\tPrec: \u001b[32m  6.7\u001b[0m%\tRecall: \u001b[32m 11.1\u001b[0m%\tF-Score: \u001b[32m  8.3\u001b[0m%\u001b[0m\n",
      "\n",
      "\n"
     ]
    },
    {
     "name": "stderr",
     "output_type": "stream",
     "text": [
      "776it [01:15,  8.86it/s]"
     ]
    },
    {
     "name": "stdout",
     "output_type": "stream",
     "text": [
      "Epoch 1 Batch 775\n",
      "=================================\n",
      "Key: \u001b[31m<nop>\u001b[0m\tPrec: \u001b[32m 99.1\u001b[0m%\tRecall: \u001b[32m 97.1\u001b[0m%\tF-Score: \u001b[32m 98.1\u001b[0m%\u001b[0m\n",
      "Key: \u001b[31m<cap>\u001b[0m\tPrec: \u001b[32m 29.4\u001b[0m%\tRecall: \u001b[32m 58.8\u001b[0m%\tF-Score: \u001b[32m 39.2\u001b[0m%\u001b[0m\n",
      "Key: \u001b[31m  \"\u001b[0m\tPrec: \u001b[32m  0.0\u001b[0m%\tRecall: \u001b[32m  0.0\u001b[0m%\tF-Score:   N/A\u001b[0m\n",
      "Key: \u001b[31m  .\u001b[0m\tPrec: \u001b[32m 50.0\u001b[0m%\tRecall: \u001b[32m 69.2\u001b[0m%\tF-Score: \u001b[32m 58.1\u001b[0m%\u001b[0m\n",
      "Key: \u001b[31m  '\u001b[0m\tPrec: \u001b[32m  0.0\u001b[0m%\tRecall: \u001b[32m  0.0\u001b[0m%\tF-Score:   N/A\u001b[0m\n",
      "Key: \u001b[31m  ,\u001b[0m\tPrec: \u001b[32m 11.1\u001b[0m%\tRecall: \u001b[32m 25.0\u001b[0m%\tF-Score: \u001b[32m 15.4\u001b[0m%\u001b[0m\n",
      "Key: \u001b[31m  !\u001b[0m\tPrec: \u001b[32m  0.0\u001b[0m%\tRecall: \u001b[32m  0.0\u001b[0m%\tF-Score:   N/A\u001b[0m\n",
      "\n",
      "\n"
     ]
    },
    {
     "name": "stderr",
     "output_type": "stream",
     "text": [
      "801it [01:18, 10.61it/s]"
     ]
    },
    {
     "name": "stdout",
     "output_type": "stream",
     "text": [
      "Epoch 1 Batch 800\n",
      "=================================\n",
      "Key: \u001b[31m<cap>\u001b[0m\tPrec: \u001b[32m 49.0\u001b[0m%\tRecall: \u001b[32m 64.1\u001b[0m%\tF-Score: \u001b[32m 55.6\u001b[0m%\u001b[0m\n",
      "Key: \u001b[31m<nop>\u001b[0m\tPrec: \u001b[32m 97.6\u001b[0m%\tRecall: \u001b[32m 95.2\u001b[0m%\tF-Score: \u001b[32m 96.4\u001b[0m%\u001b[0m\n",
      "Key: \u001b[31m  ,\u001b[0m\tPrec: \u001b[32m  0.0\u001b[0m%\tRecall: \u001b[32m  0.0\u001b[0m%\tF-Score:   N/A\u001b[0m\n",
      "Key: \u001b[31m  \"\u001b[0m\tPrec: \u001b[32m  0.0\u001b[0m%\tRecall: \u001b[32m  0.0\u001b[0m%\tF-Score:   N/A\u001b[0m\n",
      "Key: \u001b[31m  .\u001b[0m\tPrec: \u001b[32m  0.0\u001b[0m%\tRecall: \u001b[32m  0.0\u001b[0m%\tF-Score:   N/A\u001b[0m\n",
      "\n",
      "\n",
      "Secara amnya, dapat dikatakan bahawa kemajmukan itu adalah\n",
      "Secara amnya dapat dikatakan bahawa kemajmukan itu Adalah\n"
     ]
    },
    {
     "name": "stderr",
     "output_type": "stream",
     "text": [
      "826it [01:21,  9.26it/s]"
     ]
    },
    {
     "name": "stdout",
     "output_type": "stream",
     "text": [
      "Epoch 1 Batch 825\n",
      "=================================\n",
      "Key: \u001b[31m<cap>\u001b[0m\tPrec: \u001b[32m 34.0\u001b[0m%\tRecall: \u001b[32m 36.4\u001b[0m%\tF-Score: \u001b[32m 35.2\u001b[0m%\u001b[0m\n",
      "Key: \u001b[31m<nop>\u001b[0m\tPrec: \u001b[32m 98.1\u001b[0m%\tRecall: \u001b[32m 98.1\u001b[0m%\tF-Score: \u001b[32m 98.1\u001b[0m%\u001b[0m\n",
      "Key: \u001b[31m  ,\u001b[0m\tPrec: \u001b[32m  9.5\u001b[0m%\tRecall: \u001b[32m 10.0\u001b[0m%\tF-Score: \u001b[32m  9.8\u001b[0m%\u001b[0m\n",
      "Key: \u001b[31m  .\u001b[0m\tPrec: \u001b[32m 70.0\u001b[0m%\tRecall: \u001b[32m 43.8\u001b[0m%\tF-Score: \u001b[32m 53.8\u001b[0m%\u001b[0m\n",
      "Key: \u001b[31m  \"\u001b[0m\tPrec: \u001b[32m100.0\u001b[0m%\tRecall: \u001b[32m100.0\u001b[0m%\tF-Score: \u001b[32m100.0\u001b[0m%\u001b[0m\n",
      "Key: \u001b[31m  '\u001b[0m\tPrec: \u001b[32m  0.0\u001b[0m%\tRecall: \u001b[32m  0.0\u001b[0m%\tF-Score:   N/A\u001b[0m\n",
      "\n",
      "\n"
     ]
    },
    {
     "name": "stderr",
     "output_type": "stream",
     "text": [
      "851it [01:23, 10.59it/s]"
     ]
    },
    {
     "name": "stdout",
     "output_type": "stream",
     "text": [
      "Epoch 1 Batch 850\n",
      "=================================\n",
      "Key: \u001b[31m<cap>\u001b[0m\tPrec: \u001b[32m 49.3\u001b[0m%\tRecall: \u001b[32m 68.6\u001b[0m%\tF-Score: \u001b[32m 57.4\u001b[0m%\u001b[0m\n",
      "Key: \u001b[31m<nop>\u001b[0m\tPrec: \u001b[32m 97.5\u001b[0m%\tRecall: \u001b[32m 95.2\u001b[0m%\tF-Score: \u001b[32m 96.3\u001b[0m%\u001b[0m\n",
      "Key: \u001b[31m  .\u001b[0m\tPrec: \u001b[32m 66.7\u001b[0m%\tRecall: \u001b[32m 33.3\u001b[0m%\tF-Score: \u001b[32m 44.4\u001b[0m%\u001b[0m\n",
      "Key: \u001b[31m  ,\u001b[0m\tPrec: \u001b[32m  0.0\u001b[0m%\tRecall: \u001b[32m  0.0\u001b[0m%\tF-Score:   N/A\u001b[0m\n",
      "\n",
      "\n"
     ]
    },
    {
     "name": "stderr",
     "output_type": "stream",
     "text": [
      "877it [01:25, 11.61it/s]"
     ]
    },
    {
     "name": "stdout",
     "output_type": "stream",
     "text": [
      "Epoch 1 Batch 875\n",
      "=================================\n",
      "Key: \u001b[31m<cap>\u001b[0m\tPrec: \u001b[32m 46.2\u001b[0m%\tRecall: \u001b[32m 46.2\u001b[0m%\tF-Score: \u001b[32m 46.2\u001b[0m%\u001b[0m\n",
      "Key: \u001b[31m<nop>\u001b[0m\tPrec: \u001b[32m 97.7\u001b[0m%\tRecall: \u001b[32m 97.4\u001b[0m%\tF-Score: \u001b[32m 97.6\u001b[0m%\u001b[0m\n",
      "Key: \u001b[31m  ,\u001b[0m\tPrec: \u001b[32m  0.0\u001b[0m%\tRecall: \u001b[32m  0.0\u001b[0m%\tF-Score:   N/A\u001b[0m\n",
      "Key: \u001b[31m  .\u001b[0m\tPrec: \u001b[32m  0.0\u001b[0m%\tRecall: \u001b[32m  0.0\u001b[0m%\tF-Score:   N/A\u001b[0m\n",
      "Key: \u001b[31m  \"\u001b[0m\tPrec: \u001b[32m100.0\u001b[0m%\tRecall: \u001b[32m100.0\u001b[0m%\tF-Score: \u001b[32m100.0\u001b[0m%\u001b[0m\n",
      "\n",
      "\n"
     ]
    },
    {
     "name": "stderr",
     "output_type": "stream",
     "text": [
      "902it [01:27, 10.30it/s]"
     ]
    },
    {
     "name": "stdout",
     "output_type": "stream",
     "text": [
      "Epoch 1 Batch 900\n",
      "=================================\n",
      "Key: \u001b[31m<cap>\u001b[0m\tPrec: \u001b[32m 30.9\u001b[0m%\tRecall: \u001b[32m 40.5\u001b[0m%\tF-Score: \u001b[32m 35.1\u001b[0m%\u001b[0m\n",
      "Key: \u001b[31m<nop>\u001b[0m\tPrec: \u001b[32m 98.6\u001b[0m%\tRecall: \u001b[32m 97.7\u001b[0m%\tF-Score: \u001b[32m 98.1\u001b[0m%\u001b[0m\n",
      "Key: \u001b[31m  .\u001b[0m\tPrec: \u001b[32m 37.5\u001b[0m%\tRecall: \u001b[32m 46.2\u001b[0m%\tF-Score: \u001b[32m 41.4\u001b[0m%\u001b[0m\n",
      "Key: \u001b[31m  ,\u001b[0m\tPrec: \u001b[32m  0.0\u001b[0m%\tRecall: \u001b[32m  0.0\u001b[0m%\tF-Score:   N/A\u001b[0m\n",
      "Key: \u001b[31m  $\u001b[0m\tPrec: \u001b[32m  0.0\u001b[0m%\tRecall: \u001b[32m  0.0\u001b[0m%\tF-Score:   N/A\u001b[0m\n",
      "Key: \u001b[31m  :\u001b[0m\tPrec: \u001b[32m  0.0\u001b[0m%\tRecall: \u001b[32m  0.0\u001b[0m%\tF-Score:   N/A\u001b[0m\n",
      "Key: \u001b[31m  \"\u001b[0m\tPrec: \u001b[32m100.0\u001b[0m%\tRecall: \u001b[32m100.0\u001b[0m%\tF-Score: \u001b[32m100.0\u001b[0m%\u001b[0m\n",
      "Key: \u001b[31m  ?\u001b[0m\tPrec: \u001b[32m  0.0\u001b[0m%\tRecall: \u001b[32m  0.0\u001b[0m%\tF-Score:   N/A\u001b[0m\n",
      "\n",
      "\n",
      "Sekali lagi saya kena panggang kerana bayar ansurannya.                                                                                                                                                                                                          \n",
      "Sekali lagi saya Kena panggang kerana bayar Ansurannya                                                                                                                                                                                                          \n"
     ]
    },
    {
     "name": "stderr",
     "output_type": "stream",
     "text": [
      "926it [01:30, 12.47it/s]"
     ]
    },
    {
     "name": "stdout",
     "output_type": "stream",
     "text": [
      "Epoch 1 Batch 925\n",
      "=================================\n",
      "Key: \u001b[31m<cap>\u001b[0m\tPrec: \u001b[32m 61.5\u001b[0m%\tRecall: \u001b[32m 59.3\u001b[0m%\tF-Score: \u001b[32m 60.4\u001b[0m%\u001b[0m\n",
      "Key: \u001b[31m<nop>\u001b[0m\tPrec: \u001b[32m 87.9\u001b[0m%\tRecall: \u001b[32m 89.5\u001b[0m%\tF-Score: \u001b[32m 88.7\u001b[0m%\u001b[0m\n",
      "Key: \u001b[31m  ,\u001b[0m\tPrec: \u001b[32m  0.0\u001b[0m%\tRecall: \u001b[32m  0.0\u001b[0m%\tF-Score:   N/A\u001b[0m\n",
      "Key: \u001b[31m  :\u001b[0m\tPrec: \u001b[32m  0.0\u001b[0m%\tRecall: \u001b[32m  0.0\u001b[0m%\tF-Score:   N/A\u001b[0m\n",
      "\n",
      "\n"
     ]
    },
    {
     "name": "stderr",
     "output_type": "stream",
     "text": [
      "951it [01:32, 12.45it/s]"
     ]
    },
    {
     "name": "stdout",
     "output_type": "stream",
     "text": [
      "Epoch 1 Batch 950\n",
      "=================================\n",
      "Key: \u001b[31m<cap>\u001b[0m\tPrec: \u001b[32m 50.9\u001b[0m%\tRecall: \u001b[32m 39.4\u001b[0m%\tF-Score: \u001b[32m 44.4\u001b[0m%\u001b[0m\n",
      "Key: \u001b[31m<nop>\u001b[0m\tPrec: \u001b[32m 91.5\u001b[0m%\tRecall: \u001b[32m 94.8\u001b[0m%\tF-Score: \u001b[32m 93.1\u001b[0m%\u001b[0m\n",
      "Key: \u001b[31m  '\u001b[0m\tPrec: \u001b[32m  0.0\u001b[0m%\tRecall: \u001b[32m  0.0\u001b[0m%\tF-Score:   N/A\u001b[0m\n",
      "Key: \u001b[31m  ,\u001b[0m\tPrec: \u001b[32m  0.0\u001b[0m%\tRecall: \u001b[32m  0.0\u001b[0m%\tF-Score:   N/A\u001b[0m\n",
      "Key: \u001b[31m  \"\u001b[0m\tPrec: \u001b[32m100.0\u001b[0m%\tRecall: \u001b[32m 50.0\u001b[0m%\tF-Score: \u001b[32m 66.7\u001b[0m%\u001b[0m\n",
      "Key: \u001b[31m  :\u001b[0m\tPrec: \u001b[32m  0.0\u001b[0m%\tRecall: \u001b[32m  0.0\u001b[0m%\tF-Score:   N/A\u001b[0m\n",
      "Key: \u001b[31m  .\u001b[0m\tPrec: \u001b[32m  0.0\u001b[0m%\tRecall: \u001b[32m  0.0\u001b[0m%\tF-Score:   N/A\u001b[0m\n",
      "\n",
      "\n"
     ]
    },
    {
     "name": "stderr",
     "output_type": "stream",
     "text": [
      "976it [01:34, 11.63it/s]"
     ]
    },
    {
     "name": "stdout",
     "output_type": "stream",
     "text": [
      "Epoch 1 Batch 975\n",
      "=================================\n",
      "Key: \u001b[31m<cap>\u001b[0m\tPrec: \u001b[32m 33.3\u001b[0m%\tRecall: \u001b[32m 44.4\u001b[0m%\tF-Score: \u001b[32m 38.1\u001b[0m%\u001b[0m\n",
      "Key: \u001b[31m<nop>\u001b[0m\tPrec: \u001b[32m 97.4\u001b[0m%\tRecall: \u001b[32m 95.6\u001b[0m%\tF-Score: \u001b[32m 96.5\u001b[0m%\u001b[0m\n",
      "Key: \u001b[31m  ,\u001b[0m\tPrec: \u001b[32m 10.0\u001b[0m%\tRecall: \u001b[32m 18.2\u001b[0m%\tF-Score: \u001b[32m 12.9\u001b[0m%\u001b[0m\n",
      "Key: \u001b[31m  .\u001b[0m\tPrec: \u001b[32m 25.0\u001b[0m%\tRecall: \u001b[32m 33.3\u001b[0m%\tF-Score: \u001b[32m 28.6\u001b[0m%\u001b[0m\n",
      "Key: \u001b[31m  :\u001b[0m\tPrec: \u001b[32m  0.0\u001b[0m%\tRecall: \u001b[32m  0.0\u001b[0m%\tF-Score:   N/A\u001b[0m\n",
      "Key: \u001b[31m  ;\u001b[0m\tPrec: \u001b[32m  0.0\u001b[0m%\tRecall: \u001b[32m  0.0\u001b[0m%\tF-Score:   N/A\u001b[0m\n",
      "Key: \u001b[31m  '\u001b[0m\tPrec: \u001b[32m  0.0\u001b[0m%\tRecall: \u001b[32m  0.0\u001b[0m%\tF-Score:   N/A\u001b[0m\n",
      "Key: \u001b[31m  \"\u001b[0m\tPrec: \u001b[32m  0.0\u001b[0m%\tRecall: \u001b[32m  0.0\u001b[0m%\tF-Score:   N/A\u001b[0m\n",
      "\n",
      "\n"
     ]
    },
    {
     "name": "stderr",
     "output_type": "stream",
     "text": [
      "1002it [01:37, 11.39it/s]"
     ]
    },
    {
     "name": "stdout",
     "output_type": "stream",
     "text": [
      "Epoch 1 Batch 1000\n",
      "=================================\n",
      "Key: \u001b[31m<cap>\u001b[0m\tPrec: \u001b[32m 46.7\u001b[0m%\tRecall: \u001b[32m 43.1\u001b[0m%\tF-Score: \u001b[32m 44.8\u001b[0m%\u001b[0m\n",
      "Key: \u001b[31m<nop>\u001b[0m\tPrec: \u001b[32m 98.3\u001b[0m%\tRecall: \u001b[32m 98.4\u001b[0m%\tF-Score: \u001b[32m 98.3\u001b[0m%\u001b[0m\n",
      "Key: \u001b[31m  ,\u001b[0m\tPrec: \u001b[32m  0.0\u001b[0m%\tRecall: \u001b[32m  0.0\u001b[0m%\tF-Score:   N/A\u001b[0m\n",
      "Key: \u001b[31m  .\u001b[0m\tPrec: \u001b[32m 61.5\u001b[0m%\tRecall: \u001b[32m 50.0\u001b[0m%\tF-Score: \u001b[32m 55.2\u001b[0m%\u001b[0m\n",
      "\n",
      "\n",
      "Seterusnya, apabila Donny mengambil alih pentas secara solo, saat inilah yang boleh dikatakan sebagai saat genting kerana sebaik sahaja Donny turun ke pentas menyampaikan lagunya, Hey Girl, peminat wanitanya tidak m\n",
      "Seterusnya apabilA donny Mengambil Alih pentas secara, Solo saat inilah yang boleh dikatakan sebagai saat genting kerana sebaik sahaja donny turun ke pentas menyampaikan Lagunya Hey girl peminat wanitanya tidak m\n"
     ]
    },
    {
     "name": "stderr",
     "output_type": "stream",
     "text": [
      "1026it [01:39, 11.69it/s]"
     ]
    },
    {
     "name": "stdout",
     "output_type": "stream",
     "text": [
      "Epoch 1 Batch 1025\n",
      "=================================\n",
      "Key: \u001b[31m<cap>\u001b[0m\tPrec: \u001b[32m 46.2\u001b[0m%\tRecall: \u001b[32m 51.4\u001b[0m%\tF-Score: \u001b[32m 48.7\u001b[0m%\u001b[0m\n",
      "Key: \u001b[31m<nop>\u001b[0m\tPrec: \u001b[32m 97.6\u001b[0m%\tRecall: \u001b[32m 97.4\u001b[0m%\tF-Score: \u001b[32m 97.5\u001b[0m%\u001b[0m\n",
      "Key: \u001b[31m  ,\u001b[0m\tPrec: \u001b[32m 21.4\u001b[0m%\tRecall: \u001b[32m 17.6\u001b[0m%\tF-Score: \u001b[32m 19.4\u001b[0m%\u001b[0m\n",
      "Key: \u001b[31m  .\u001b[0m\tPrec: \u001b[32m 53.8\u001b[0m%\tRecall: \u001b[32m 58.3\u001b[0m%\tF-Score: \u001b[32m 56.0\u001b[0m%\u001b[0m\n",
      "Key: \u001b[31m  '\u001b[0m\tPrec: \u001b[32m 33.3\u001b[0m%\tRecall: \u001b[32m 50.0\u001b[0m%\tF-Score: \u001b[32m 40.0\u001b[0m%\u001b[0m\n",
      "\n",
      "\n"
     ]
    },
    {
     "name": "stderr",
     "output_type": "stream",
     "text": [
      "1050it [01:41,  9.31it/s]"
     ]
    },
    {
     "name": "stdout",
     "output_type": "stream",
     "text": [
      "Epoch 1 Batch 1050\n",
      "=================================\n",
      "Key: \u001b[31m<cap>\u001b[0m\tPrec: \u001b[32m 44.7\u001b[0m%\tRecall: \u001b[32m 45.9\u001b[0m%\tF-Score: \u001b[32m 45.3\u001b[0m%\u001b[0m\n",
      "Key: \u001b[31m<nop>\u001b[0m\tPrec: \u001b[32m 98.5\u001b[0m%\tRecall: \u001b[32m 98.4\u001b[0m%\tF-Score: \u001b[32m 98.5\u001b[0m%\u001b[0m\n",
      "Key: \u001b[31m  ,\u001b[0m\tPrec: \u001b[32m 10.0\u001b[0m%\tRecall: \u001b[32m  6.7\u001b[0m%\tF-Score: \u001b[32m  8.0\u001b[0m%\u001b[0m\n",
      "Key: \u001b[31m  .\u001b[0m\tPrec: \u001b[32m 42.1\u001b[0m%\tRecall: \u001b[32m 80.0\u001b[0m%\tF-Score: \u001b[32m 55.2\u001b[0m%\u001b[0m\n",
      "Key: \u001b[31m  ?\u001b[0m\tPrec: \u001b[32m  0.0\u001b[0m%\tRecall: \u001b[32m  0.0\u001b[0m%\tF-Score:   N/A\u001b[0m\n",
      "Key: \u001b[31m  :\u001b[0m\tPrec: \u001b[32m  0.0\u001b[0m%\tRecall: \u001b[32m  0.0\u001b[0m%\tF-Score:   N/A\u001b[0m\n",
      "\n",
      "\n"
     ]
    },
    {
     "name": "stderr",
     "output_type": "stream",
     "text": [
      "1075it [01:43, 14.83it/s]"
     ]
    },
    {
     "name": "stdout",
     "output_type": "stream",
     "text": [
      "Epoch 1 Batch 1075\n",
      "=================================\n",
      "Key: \u001b[31m<cap>\u001b[0m\tPrec: \u001b[32m 50.0\u001b[0m%\tRecall: \u001b[32m 37.5\u001b[0m%\tF-Score: \u001b[32m 42.9\u001b[0m%\u001b[0m\n",
      "Key: \u001b[31m<nop>\u001b[0m\tPrec: \u001b[32m 98.0\u001b[0m%\tRecall: \u001b[32m 98.3\u001b[0m%\tF-Score: \u001b[32m 98.1\u001b[0m%\u001b[0m\n",
      "Key: \u001b[31m  .\u001b[0m\tPrec: \u001b[32m 55.6\u001b[0m%\tRecall: \u001b[32m 71.4\u001b[0m%\tF-Score: \u001b[32m 62.5\u001b[0m%\u001b[0m\n",
      "Key: \u001b[31m  ,\u001b[0m\tPrec: \u001b[32m  0.0\u001b[0m%\tRecall: \u001b[32m  0.0\u001b[0m%\tF-Score:   N/A\u001b[0m\n",
      "Key: \u001b[31m  '\u001b[0m\tPrec: \u001b[32m  0.0\u001b[0m%\tRecall: \u001b[32m  0.0\u001b[0m%\tF-Score:   N/A\u001b[0m\n",
      "\n",
      "\n"
     ]
    },
    {
     "name": "stderr",
     "output_type": "stream",
     "text": [
      "1102it [01:46, 10.79it/s]"
     ]
    },
    {
     "name": "stdout",
     "output_type": "stream",
     "text": [
      "Epoch 1 Batch 1100\n",
      "=================================\n",
      "Key: \u001b[31m<cap>\u001b[0m\tPrec: \u001b[32m 35.3\u001b[0m%\tRecall: \u001b[32m 47.4\u001b[0m%\tF-Score: \u001b[32m 40.4\u001b[0m%\u001b[0m\n",
      "Key: \u001b[31m<nop>\u001b[0m\tPrec: \u001b[32m 98.6\u001b[0m%\tRecall: \u001b[32m 98.2\u001b[0m%\tF-Score: \u001b[32m 98.4\u001b[0m%\u001b[0m\n",
      "Key: \u001b[31m  '\u001b[0m\tPrec: \u001b[32m  0.0\u001b[0m%\tRecall: \u001b[32m  0.0\u001b[0m%\tF-Score:   N/A\u001b[0m\n",
      "Key: \u001b[31m  ,\u001b[0m\tPrec: \u001b[32m  0.0\u001b[0m%\tRecall: \u001b[32m  0.0\u001b[0m%\tF-Score:   N/A\u001b[0m\n",
      "Key: \u001b[31m  .\u001b[0m\tPrec: \u001b[32m 72.7\u001b[0m%\tRecall: \u001b[32m 66.7\u001b[0m%\tF-Score: \u001b[32m 69.6\u001b[0m%\u001b[0m\n",
      "Key: \u001b[31m  ?\u001b[0m\tPrec: \u001b[32m  0.0\u001b[0m%\tRecall: \u001b[32m  0.0\u001b[0m%\tF-Score:   N/A\u001b[0m\n",
      "Key: \u001b[31m  \"\u001b[0m\tPrec: \u001b[32m100.0\u001b[0m%\tRecall: \u001b[32m 66.7\u001b[0m%\tF-Score: \u001b[32m 80.0\u001b[0m%\u001b[0m\n",
      "\n",
      "\n",
      "Ini kerana bersamaan dengan aliran itu lahir pula mazhab baru formalisme Rusia yang lebih berorientasi pada bentuk form dengan titik utama kajian ialah pada narasi a\n",
      "ini kerana, bersamaan dengan Aliran itu, lahir pUla Mazhab. baru formalisme Rusia yang lebih berorientasi pada bentuk Form dengan titik utama, kajian ialah pada narasi a\n"
     ]
    },
    {
     "name": "stderr",
     "output_type": "stream",
     "text": [
      "1126it [01:48, 13.87it/s]"
     ]
    },
    {
     "name": "stdout",
     "output_type": "stream",
     "text": [
      "Epoch 1 Batch 1125\n",
      "=================================\n",
      "Key: \u001b[31m  '\u001b[0m\tPrec: \u001b[32m 50.0\u001b[0m%\tRecall: \u001b[32m100.0\u001b[0m%\tF-Score: \u001b[32m 66.7\u001b[0m%\u001b[0m\n",
      "Key: \u001b[31m<cap>\u001b[0m\tPrec: \u001b[32m 73.3\u001b[0m%\tRecall: \u001b[32m 64.7\u001b[0m%\tF-Score: \u001b[32m 68.8\u001b[0m%\u001b[0m\n",
      "Key: \u001b[31m<nop>\u001b[0m\tPrec: \u001b[32m 96.2\u001b[0m%\tRecall: \u001b[32m 96.2\u001b[0m%\tF-Score: \u001b[32m 96.2\u001b[0m%\u001b[0m\n",
      "Key: \u001b[31m  ,\u001b[0m\tPrec: \u001b[32m 28.6\u001b[0m%\tRecall: \u001b[32m 40.0\u001b[0m%\tF-Score: \u001b[32m 33.3\u001b[0m%\u001b[0m\n",
      "Key: \u001b[31m  \"\u001b[0m\tPrec: \u001b[32m100.0\u001b[0m%\tRecall: \u001b[32m100.0\u001b[0m%\tF-Score: \u001b[32m100.0\u001b[0m%\u001b[0m\n",
      "Key: \u001b[31m  .\u001b[0m\tPrec: \u001b[32m  0.0\u001b[0m%\tRecall: \u001b[32m  0.0\u001b[0m%\tF-Score:   N/A\u001b[0m\n",
      "\n",
      "\n"
     ]
    },
    {
     "name": "stderr",
     "output_type": "stream",
     "text": [
      "1151it [01:50, 12.10it/s]"
     ]
    },
    {
     "name": "stdout",
     "output_type": "stream",
     "text": [
      "Epoch 1 Batch 1150\n",
      "=================================\n",
      "Key: \u001b[31m<cap>\u001b[0m\tPrec: \u001b[32m 56.7\u001b[0m%\tRecall: \u001b[32m 53.1\u001b[0m%\tF-Score: \u001b[32m 54.8\u001b[0m%\u001b[0m\n",
      "Key: \u001b[31m<nop>\u001b[0m\tPrec: \u001b[32m 92.8\u001b[0m%\tRecall: \u001b[32m 93.2\u001b[0m%\tF-Score: \u001b[32m 93.0\u001b[0m%\u001b[0m\n",
      "Key: \u001b[31m  :\u001b[0m\tPrec: \u001b[32m  0.0\u001b[0m%\tRecall: \u001b[32m  0.0\u001b[0m%\tF-Score:   N/A\u001b[0m\n",
      "Key: \u001b[31m  \"\u001b[0m\tPrec: \u001b[32m100.0\u001b[0m%\tRecall: \u001b[32m100.0\u001b[0m%\tF-Score: \u001b[32m100.0\u001b[0m%\u001b[0m\n",
      "\n",
      "\n"
     ]
    },
    {
     "name": "stderr",
     "output_type": "stream",
     "text": [
      "1176it [01:53,  8.25it/s]"
     ]
    },
    {
     "name": "stdout",
     "output_type": "stream",
     "text": [
      "Epoch 1 Batch 1175\n",
      "=================================\n",
      "Key: \u001b[31m<cap>\u001b[0m\tPrec: \u001b[32m 33.8\u001b[0m%\tRecall: \u001b[32m 35.6\u001b[0m%\tF-Score: \u001b[32m 34.7\u001b[0m%\u001b[0m\n",
      "Key: \u001b[31m<nop>\u001b[0m\tPrec: \u001b[32m 98.3\u001b[0m%\tRecall: \u001b[32m 98.0\u001b[0m%\tF-Score: \u001b[32m 98.2\u001b[0m%\u001b[0m\n",
      "Key: \u001b[31m  ,\u001b[0m\tPrec: \u001b[32m 10.5\u001b[0m%\tRecall: \u001b[32m 22.2\u001b[0m%\tF-Score: \u001b[32m 14.3\u001b[0m%\u001b[0m\n",
      "Key: \u001b[31m  .\u001b[0m\tPrec: \u001b[32m 64.3\u001b[0m%\tRecall: \u001b[32m 64.3\u001b[0m%\tF-Score: \u001b[32m 64.3\u001b[0m%\u001b[0m\n",
      "Key: \u001b[31m  ?\u001b[0m\tPrec: \u001b[32m  0.0\u001b[0m%\tRecall: \u001b[32m  0.0\u001b[0m%\tF-Score:   N/A\u001b[0m\n",
      "Key: \u001b[31m  \"\u001b[0m\tPrec: \u001b[32m100.0\u001b[0m%\tRecall: \u001b[32m100.0\u001b[0m%\tF-Score: \u001b[32m100.0\u001b[0m%\u001b[0m\n",
      "Key: \u001b[31m  !\u001b[0m\tPrec: \u001b[32m  0.0\u001b[0m%\tRecall: \u001b[32m  0.0\u001b[0m%\tF-Score:   N/A\u001b[0m\n",
      "Key: \u001b[31m  '\u001b[0m\tPrec: \u001b[32m100.0\u001b[0m%\tRecall: \u001b[32m 50.0\u001b[0m%\tF-Score: \u001b[32m 66.7\u001b[0m%\u001b[0m\n",
      "\n",
      "\n"
     ]
    },
    {
     "name": "stderr",
     "output_type": "stream",
     "text": [
      "1203it [01:57, 10.23it/s]"
     ]
    },
    {
     "name": "stdout",
     "output_type": "stream",
     "text": [
      "Epoch 1 Batch 1200\n",
      "=================================\n",
      "Key: \u001b[31m<cap>\u001b[0m\tPrec: \u001b[32m 53.2\u001b[0m%\tRecall: \u001b[32m 60.3\u001b[0m%\tF-Score: \u001b[32m 56.6\u001b[0m%\u001b[0m\n",
      "Key: \u001b[31m<nop>\u001b[0m\tPrec: \u001b[32m 97.8\u001b[0m%\tRecall: \u001b[32m 97.2\u001b[0m%\tF-Score: \u001b[32m 97.5\u001b[0m%\u001b[0m\n",
      "Key: \u001b[31m  ,\u001b[0m\tPrec: \u001b[32m 21.4\u001b[0m%\tRecall: \u001b[32m 33.3\u001b[0m%\tF-Score: \u001b[32m 26.1\u001b[0m%\u001b[0m\n",
      "Key: \u001b[31m  .\u001b[0m\tPrec: \u001b[32m 66.7\u001b[0m%\tRecall: \u001b[32m 50.0\u001b[0m%\tF-Score: \u001b[32m 57.1\u001b[0m%\u001b[0m\n",
      "\n",
      "\n",
      "Hillary  sudah sedia terima tawaran Obama                                                                       \n",
      "HiLlary  SuDah sedia terima Tawaran obama.                                                                       \n"
     ]
    },
    {
     "name": "stderr",
     "output_type": "stream",
     "text": [
      "1226it [01:59,  9.89it/s]"
     ]
    },
    {
     "name": "stdout",
     "output_type": "stream",
     "text": [
      "Epoch 1 Batch 1225\n",
      "=================================\n",
      "Key: \u001b[31m<cap>\u001b[0m\tPrec: \u001b[32m 52.4\u001b[0m%\tRecall: \u001b[32m 44.0\u001b[0m%\tF-Score: \u001b[32m 47.8\u001b[0m%\u001b[0m\n",
      "Key: \u001b[31m<nop>\u001b[0m\tPrec: \u001b[32m 96.5\u001b[0m%\tRecall: \u001b[32m 96.9\u001b[0m%\tF-Score: \u001b[32m 96.7\u001b[0m%\u001b[0m\n",
      "Key: \u001b[31m  ,\u001b[0m\tPrec: \u001b[32m 14.3\u001b[0m%\tRecall: \u001b[32m 22.2\u001b[0m%\tF-Score: \u001b[32m 17.4\u001b[0m%\u001b[0m\n",
      "Key: \u001b[31m  .\u001b[0m\tPrec: \u001b[32m 25.0\u001b[0m%\tRecall: \u001b[32m 40.0\u001b[0m%\tF-Score: \u001b[32m 30.8\u001b[0m%\u001b[0m\n",
      "Key: \u001b[31m  '\u001b[0m\tPrec: \u001b[32m100.0\u001b[0m%\tRecall: \u001b[32m100.0\u001b[0m%\tF-Score: \u001b[32m100.0\u001b[0m%\u001b[0m\n",
      "Key: \u001b[31m  :\u001b[0m\tPrec: \u001b[32m  0.0\u001b[0m%\tRecall: \u001b[32m  0.0\u001b[0m%\tF-Score:   N/A\u001b[0m\n",
      "\n",
      "\n"
     ]
    }
   ],
   "source": [
    "learning_rate = 0.5e-2\n",
    "egdt.setup_training(learning_rate)\n",
    "\n",
    "seq_length = 500\n",
    "EPOCH = 24\n",
    "for epoch_num in range(EPOCH):\n",
    "\n",
    "    for batch_ind, (max_len, data) in enumerate(tqdm(data_processing.batch_gen(train_data, batch_size))):\n",
    "\n",
    "        # prepare the input and output chunks\n",
    "        input_srcs = []\n",
    "        punc_targs = []\n",
    "        for chunk in data:\n",
    "            input_source, punctuation_target = data_processing.extract_punc(chunk, egdt.char2vec.chars, egdt.output_char2vec.chars)\n",
    "            input_srcs.append(input_source)\n",
    "            punc_targs.append(punctuation_target)\n",
    "\n",
    "            # at the begining of the file, reset hidden to zero\n",
    "        egdt.init_hidden_(random=False)\n",
    "#         seq_len = data_processing.fuzzy_chunk_len(max_len, seq_length)\n",
    "        seq_len = min(max_len, seq_length)\n",
    "        for input_, target_ in zip(zip(*[data_processing.chunk_gen(seq_len, src) for src in input_srcs]),\n",
    "                                   zip(*[data_processing.chunk_gen(seq_len, tar, [\"<nop>\"]) for tar in punc_targs])):\n",
    "\n",
    "            try:\n",
    "                egdt.forward(input_, target_)\n",
    "                egdt.descent()\n",
    "            except KeyError:\n",
    "                raise KeyError\n",
    "\n",
    "        if batch_ind % 25 == 24:\n",
    "            print('Epoch {:d} Batch {}'.format(epoch_num + 1, batch_ind + 1))\n",
    "            print(\"=================================\")\n",
    "            punctuation_output = egdt.output_chars()\n",
    "#             plot_progress(egdt.embeded[0, :400].data.numpy().T,\n",
    "#                           egdt.output[0, :400].data.numpy().T,\n",
    "#                           egdt.softmax[0, :400].data.numpy().T,\n",
    "#                           np.array(egdt.losses))\n",
    "\n",
    "            metric.print_pc(utils.flatten(punctuation_output), utils.flatten(target_))\n",
    "            print('\\n')\n",
    "\n",
    "        if batch_ind % 100 == 99:\n",
    "            validate_target = data_processing.apply_punc(input_[0], target_[0])\n",
    "            result = data_processing.apply_punc(input_[0],\n",
    "                                     punctuation_output[0])\n",
    "            print(validate_target)\n",
    "            print(result)\n",
    "\n",
    "    # print('Dev Set Performance {:d}'.format(epoch_num))\n",
    "    egdt.save('checkpoints/train_epoch-{}_batch-{}.pth'.format(epoch_num + 1, batch_ind + 1))"
   ]
  },
  {
   "cell_type": "code",
   "execution_count": null,
   "metadata": {},
   "outputs": [],
   "source": []
  }
 ],
 "metadata": {
  "kernelspec": {
   "display_name": "env1",
   "language": "python",
   "name": "env1"
  },
  "language_info": {
   "codemirror_mode": {
    "name": "ipython",
    "version": 3
   },
   "file_extension": ".py",
   "mimetype": "text/x-python",
   "name": "python",
   "nbconvert_exporter": "python",
   "pygments_lexer": "ipython3",
   "version": "3.8.5"
  }
 },
 "nbformat": 4,
 "nbformat_minor": 4
}
